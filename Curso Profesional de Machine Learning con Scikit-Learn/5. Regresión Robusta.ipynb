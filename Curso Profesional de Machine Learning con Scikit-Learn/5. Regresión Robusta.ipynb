{
 "cells": [
  {
   "cell_type": "markdown",
   "metadata": {},
   "source": [
    "Aquí vamos a trabajar con los datos de nuestro dataset de felidad, pero le vamos a hacer algunas modificaciones: Le vamos a introducir ciertos datos corruptos que nuestro regresor va a tener que lidiar."
   ]
  },
  {
   "cell_type": "code",
   "execution_count": 21,
   "metadata": {},
   "outputs": [],
   "source": [
    "import pandas as pd\n",
    "from sklearn.linear_model import (RANSACRegressor, HuberRegressor)  #Podemos hacerlo de esta manera, ya que ambos pertenecen al mismo módulo)\n",
    "\n",
    "from sklearn.svm import SVR #Máquinas de soporte Vectorial\n",
    "\n",
    "from sklearn.model_selection import train_test_split\n",
    "from sklearn.metrics import mean_squared_error #La métrica que usaremos"
   ]
  },
  {
   "cell_type": "code",
   "execution_count": 22,
   "metadata": {
    "scrolled": true
   },
   "outputs": [
    {
     "data": {
      "text/html": [
       "<div>\n",
       "<style scoped>\n",
       "    .dataframe tbody tr th:only-of-type {\n",
       "        vertical-align: middle;\n",
       "    }\n",
       "\n",
       "    .dataframe tbody tr th {\n",
       "        vertical-align: top;\n",
       "    }\n",
       "\n",
       "    .dataframe thead th {\n",
       "        text-align: right;\n",
       "    }\n",
       "</style>\n",
       "<table border=\"1\" class=\"dataframe\">\n",
       "  <thead>\n",
       "    <tr style=\"text-align: right;\">\n",
       "      <th></th>\n",
       "      <th>country</th>\n",
       "      <th>rank</th>\n",
       "      <th>score</th>\n",
       "      <th>high</th>\n",
       "      <th>low</th>\n",
       "      <th>gdp</th>\n",
       "      <th>family</th>\n",
       "      <th>lifexp</th>\n",
       "      <th>freedom</th>\n",
       "      <th>generosity</th>\n",
       "      <th>corruption</th>\n",
       "      <th>dystopia</th>\n",
       "    </tr>\n",
       "  </thead>\n",
       "  <tbody>\n",
       "    <tr>\n",
       "      <th>0</th>\n",
       "      <td>Norway</td>\n",
       "      <td>1</td>\n",
       "      <td>7.537</td>\n",
       "      <td>7.594445</td>\n",
       "      <td>7.479556</td>\n",
       "      <td>1.616463</td>\n",
       "      <td>1.533524</td>\n",
       "      <td>0.796667</td>\n",
       "      <td>0.635423</td>\n",
       "      <td>0.362012</td>\n",
       "      <td>0.315964</td>\n",
       "      <td>2.277027</td>\n",
       "    </tr>\n",
       "    <tr>\n",
       "      <th>1</th>\n",
       "      <td>Denmark</td>\n",
       "      <td>2</td>\n",
       "      <td>7.522</td>\n",
       "      <td>7.581728</td>\n",
       "      <td>7.462272</td>\n",
       "      <td>1.482383</td>\n",
       "      <td>1.551122</td>\n",
       "      <td>0.792566</td>\n",
       "      <td>0.626007</td>\n",
       "      <td>0.355280</td>\n",
       "      <td>0.400770</td>\n",
       "      <td>2.313707</td>\n",
       "    </tr>\n",
       "    <tr>\n",
       "      <th>2</th>\n",
       "      <td>Iceland</td>\n",
       "      <td>3</td>\n",
       "      <td>7.504</td>\n",
       "      <td>7.622030</td>\n",
       "      <td>7.385970</td>\n",
       "      <td>1.480633</td>\n",
       "      <td>1.610574</td>\n",
       "      <td>0.833552</td>\n",
       "      <td>0.627163</td>\n",
       "      <td>0.475540</td>\n",
       "      <td>0.153527</td>\n",
       "      <td>2.322715</td>\n",
       "    </tr>\n",
       "    <tr>\n",
       "      <th>3</th>\n",
       "      <td>Switzerland</td>\n",
       "      <td>4</td>\n",
       "      <td>7.494</td>\n",
       "      <td>7.561772</td>\n",
       "      <td>7.426227</td>\n",
       "      <td>1.564980</td>\n",
       "      <td>1.516912</td>\n",
       "      <td>0.858131</td>\n",
       "      <td>0.620071</td>\n",
       "      <td>0.290549</td>\n",
       "      <td>0.367007</td>\n",
       "      <td>2.276716</td>\n",
       "    </tr>\n",
       "    <tr>\n",
       "      <th>4</th>\n",
       "      <td>Finland</td>\n",
       "      <td>5</td>\n",
       "      <td>7.469</td>\n",
       "      <td>7.527542</td>\n",
       "      <td>7.410458</td>\n",
       "      <td>1.443572</td>\n",
       "      <td>1.540247</td>\n",
       "      <td>0.809158</td>\n",
       "      <td>0.617951</td>\n",
       "      <td>0.245483</td>\n",
       "      <td>0.382612</td>\n",
       "      <td>2.430182</td>\n",
       "    </tr>\n",
       "  </tbody>\n",
       "</table>\n",
       "</div>"
      ],
      "text/plain": [
       "       country  rank  score      high       low       gdp    family    lifexp  \\\n",
       "0       Norway     1  7.537  7.594445  7.479556  1.616463  1.533524  0.796667   \n",
       "1      Denmark     2  7.522  7.581728  7.462272  1.482383  1.551122  0.792566   \n",
       "2      Iceland     3  7.504  7.622030  7.385970  1.480633  1.610574  0.833552   \n",
       "3  Switzerland     4  7.494  7.561772  7.426227  1.564980  1.516912  0.858131   \n",
       "4      Finland     5  7.469  7.527542  7.410458  1.443572  1.540247  0.809158   \n",
       "\n",
       "    freedom  generosity  corruption  dystopia  \n",
       "0  0.635423    0.362012    0.315964  2.277027  \n",
       "1  0.626007    0.355280    0.400770  2.313707  \n",
       "2  0.627163    0.475540    0.153527  2.322715  \n",
       "3  0.620071    0.290549    0.367007  2.276716  \n",
       "4  0.617951    0.245483    0.382612  2.430182  "
      ]
     },
     "execution_count": 22,
     "metadata": {},
     "output_type": "execute_result"
    }
   ],
   "source": [
    "dataset = pd.read_csv('Datasets/felicidad.csv')\n",
    "dataset.head()"
   ]
  },
  {
   "cell_type": "code",
   "execution_count": 23,
   "metadata": {},
   "outputs": [
    {
     "data": {
      "text/html": [
       "<div>\n",
       "<style scoped>\n",
       "    .dataframe tbody tr th:only-of-type {\n",
       "        vertical-align: middle;\n",
       "    }\n",
       "\n",
       "    .dataframe tbody tr th {\n",
       "        vertical-align: top;\n",
       "    }\n",
       "\n",
       "    .dataframe thead th {\n",
       "        text-align: right;\n",
       "    }\n",
       "</style>\n",
       "<table border=\"1\" class=\"dataframe\">\n",
       "  <thead>\n",
       "    <tr style=\"text-align: right;\">\n",
       "      <th></th>\n",
       "      <th>rank</th>\n",
       "      <th>high</th>\n",
       "      <th>low</th>\n",
       "      <th>gdp</th>\n",
       "      <th>family</th>\n",
       "      <th>lifexp</th>\n",
       "      <th>freedom</th>\n",
       "      <th>generosity</th>\n",
       "      <th>corruption</th>\n",
       "      <th>dystopia</th>\n",
       "    </tr>\n",
       "  </thead>\n",
       "  <tbody>\n",
       "    <tr>\n",
       "      <th>0</th>\n",
       "      <td>1</td>\n",
       "      <td>7.594445</td>\n",
       "      <td>7.479556</td>\n",
       "      <td>1.616463</td>\n",
       "      <td>1.533524</td>\n",
       "      <td>0.796667</td>\n",
       "      <td>0.635423</td>\n",
       "      <td>0.362012</td>\n",
       "      <td>0.315964</td>\n",
       "      <td>2.277027</td>\n",
       "    </tr>\n",
       "    <tr>\n",
       "      <th>1</th>\n",
       "      <td>2</td>\n",
       "      <td>7.581728</td>\n",
       "      <td>7.462272</td>\n",
       "      <td>1.482383</td>\n",
       "      <td>1.551122</td>\n",
       "      <td>0.792566</td>\n",
       "      <td>0.626007</td>\n",
       "      <td>0.355280</td>\n",
       "      <td>0.400770</td>\n",
       "      <td>2.313707</td>\n",
       "    </tr>\n",
       "    <tr>\n",
       "      <th>2</th>\n",
       "      <td>3</td>\n",
       "      <td>7.622030</td>\n",
       "      <td>7.385970</td>\n",
       "      <td>1.480633</td>\n",
       "      <td>1.610574</td>\n",
       "      <td>0.833552</td>\n",
       "      <td>0.627163</td>\n",
       "      <td>0.475540</td>\n",
       "      <td>0.153527</td>\n",
       "      <td>2.322715</td>\n",
       "    </tr>\n",
       "    <tr>\n",
       "      <th>3</th>\n",
       "      <td>4</td>\n",
       "      <td>7.561772</td>\n",
       "      <td>7.426227</td>\n",
       "      <td>1.564980</td>\n",
       "      <td>1.516912</td>\n",
       "      <td>0.858131</td>\n",
       "      <td>0.620071</td>\n",
       "      <td>0.290549</td>\n",
       "      <td>0.367007</td>\n",
       "      <td>2.276716</td>\n",
       "    </tr>\n",
       "    <tr>\n",
       "      <th>4</th>\n",
       "      <td>5</td>\n",
       "      <td>7.527542</td>\n",
       "      <td>7.410458</td>\n",
       "      <td>1.443572</td>\n",
       "      <td>1.540247</td>\n",
       "      <td>0.809158</td>\n",
       "      <td>0.617951</td>\n",
       "      <td>0.245483</td>\n",
       "      <td>0.382612</td>\n",
       "      <td>2.430182</td>\n",
       "    </tr>\n",
       "  </tbody>\n",
       "</table>\n",
       "</div>"
      ],
      "text/plain": [
       "   rank      high       low       gdp    family    lifexp   freedom  \\\n",
       "0     1  7.594445  7.479556  1.616463  1.533524  0.796667  0.635423   \n",
       "1     2  7.581728  7.462272  1.482383  1.551122  0.792566  0.626007   \n",
       "2     3  7.622030  7.385970  1.480633  1.610574  0.833552  0.627163   \n",
       "3     4  7.561772  7.426227  1.564980  1.516912  0.858131  0.620071   \n",
       "4     5  7.527542  7.410458  1.443572  1.540247  0.809158  0.617951   \n",
       "\n",
       "   generosity  corruption  dystopia  \n",
       "0    0.362012    0.315964  2.277027  \n",
       "1    0.355280    0.400770  2.313707  \n",
       "2    0.475540    0.153527  2.322715  \n",
       "3    0.290549    0.367007  2.276716  \n",
       "4    0.245483    0.382612  2.430182  "
      ]
     },
     "execution_count": 23,
     "metadata": {},
     "output_type": "execute_result"
    }
   ],
   "source": [
    "X= dataset.drop(['country', 'score'], axis=1)\n",
    "Y= dataset['score']\n",
    "X.head()\n"
   ]
  },
  {
   "cell_type": "code",
   "execution_count": 24,
   "metadata": {},
   "outputs": [],
   "source": [
    "X_train, X_test, Y_train, Y_test = train_test_split(X,Y, test_size=0.3, random_state=42)\n"
   ]
  },
  {
   "cell_type": "markdown",
   "metadata": {},
   "source": [
    "### DATO:\n",
    "\n",
    "Una manera professional de trabajar con varios estimadores al mismo tiempo, de tal manera que podamos hacerlo sin escribir muchas líneas de código."
   ]
  },
  {
   "cell_type": "code",
   "execution_count": 25,
   "metadata": {},
   "outputs": [],
   "source": [
    "#Usaremos un diccionario\n",
    "#Nota: RANSA no es un estimador. Es un meta-estimador\n",
    "estimadores = { 'SVR':SVR(gamma= 'auto', C=1.0, epsilon = 0.1),\n",
    "                'RANSAC': RANSACRegressor(),    #Podemos trabajar con diferentes estimadores como parámetro en RANSAC, ya que es un \"MetaEstimador\".RANSAC trabaja con la regresión lineal por defecto.\n",
    "                'Huber': HuberRegressor(epsilon = 1.35)\n",
    "    \n",
    "}"
   ]
  },
  {
   "cell_type": "code",
   "execution_count": 28,
   "metadata": {
    "scrolled": true
   },
   "outputs": [
    {
     "name": "stdout",
     "output_type": "stream",
     "text": [
      "SVR\n",
      "MSE:  0.024636332906412182\n",
      "Score 0.9780019790127239\n",
      "RANSAC\n",
      "MSE:  1.1899164154047088e-19\n",
      "Score 1.0\n",
      "Huber\n",
      "MSE:  1.4911035802611992e-06\n",
      "Score 0.9999986685791276\n"
     ]
    },
    {
     "name": "stderr",
     "output_type": "stream",
     "text": [
      "C:\\Users\\Usuario\\anaconda3\\envs\\Platzi- Enviroment\\lib\\site-packages\\sklearn\\linear_model\\_huber.py:296: ConvergenceWarning: lbfgs failed to converge (status=1):\n",
      "STOP: TOTAL NO. of ITERATIONS REACHED LIMIT.\n",
      "\n",
      "Increase the number of iterations (max_iter) or scale the data as shown in:\n",
      "    https://scikit-learn.org/stable/modules/preprocessing.html\n",
      "  self.n_iter_ = _check_optimize_result(\"lbfgs\", opt_res, self.max_iter)\n"
     ]
    }
   ],
   "source": [
    "for name, estimador in estimadores.items():\n",
    "    estimador.fit(X_train, Y_train)\n",
    "    predictions = estimador.predict(X_test)\n",
    "    \n",
    "    print(name)\n",
    "    \n",
    "    print(\"MSE: \", mean_squared_error(Y_test, predictions))\n",
    "    print(\"Score\", estimador.score(X_test, Y_test))"
   ]
  },
  {
   "cell_type": "code",
   "execution_count": 27,
   "metadata": {
    "scrolled": true
   },
   "outputs": [
    {
     "data": {
      "text/plain": [
       "dict_items([('SVR', SVR(C=1.0, cache_size=200, coef0=0.0, degree=3, epsilon=0.1, gamma='auto',\n",
       "    kernel='rbf', max_iter=-1, shrinking=True, tol=0.001, verbose=False)), ('RANSAC', RANSACRegressor(base_estimator=None, is_data_valid=None, is_model_valid=None,\n",
       "                loss='absolute_loss', max_skips=inf, max_trials=100,\n",
       "                min_samples=None, random_state=None, residual_threshold=None,\n",
       "                stop_n_inliers=inf, stop_probability=0.99, stop_score=inf)), ('Huber', HuberRegressor(alpha=0.0001, epsilon=1.35, fit_intercept=True, max_iter=100,\n",
       "               tol=1e-05, warm_start=False))])"
      ]
     },
     "execution_count": 27,
     "metadata": {},
     "output_type": "execute_result"
    }
   ],
   "source": [
    "#Esto es solo para que le eches un vistaso a lo que obtenemos con items\n",
    "estimadores.items()"
   ]
  },
  {
   "cell_type": "markdown",
   "metadata": {},
   "source": [
    "### Resultados\n",
    "\n",
    "Como podemos observar, el estimador con menor error es RANSAC.Por otrolado, el estimador con mayor error es el SVR. Con ello demostramos que los Meta-estimadores, al suprimir o penalizar a los atípicos, logran reducir el error de manera significativa. "
   ]
  }
 ],
 "metadata": {
  "kernelspec": {
   "display_name": "Python 3",
   "language": "python",
   "name": "python3"
  },
  "language_info": {
   "codemirror_mode": {
    "name": "ipython",
    "version": 3
   },
   "file_extension": ".py",
   "mimetype": "text/x-python",
   "name": "python",
   "nbconvert_exporter": "python",
   "pygments_lexer": "ipython3",
   "version": "3.7.7"
  }
 },
 "nbformat": 4,
 "nbformat_minor": 4
}
